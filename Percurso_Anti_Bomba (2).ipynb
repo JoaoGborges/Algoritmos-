{
  "cells": [
    {
      "cell_type": "code",
      "source": [
        "import random\n",
        "\n",
        "campo_minado = [\n",
        " ['O', 'O', 'X', 'O','X'],\n",
        " ['X', 'O', 'O', 'O','X'],\n",
        " ['O', 'O', 'X', 'O','X'],\n",
        " ['O', 'X', 'O', 'O','O']\n",
        "]\n",
        "\n",
        "campo_percorrido = [\n",
        "    ['','','','',''],\n",
        "    ['','','','',''],\n",
        "    ['','','','',''],\n",
        "    ['','','','',''],\n",
        "]\n",
        "\n",
        "while True:\n",
        "  posicao_linha = random.randint(1,len(campo_minado))\n",
        "  posicao_coluna = random.randint(1,len(campo_minado[0]))\n",
        "\n",
        "  if campo_percorrido[posicao_linha-1][posicao_coluna-1]==False:\n",
        "    # inventa nova posição para evitar a bomba\n",
        "    print('QUASE!!')\n",
        "    posicao_linha = random.randint(1,len(campo_minado))\n",
        "    posicao_coluna = random.randint(1,len(campo_minado[0]))\n",
        "  else:\n",
        "    resultado = (campo_minado[posicao_linha-1][posicao_coluna-1]=='O')\n",
        "    campo_percorrido[posicao_linha-1][posicao_coluna-1] = resultado\n",
        "\n",
        "  print(f'linha: {posicao_linha} \\\n",
        "        coluna {posicao_coluna} \\\n",
        "        Bolinha?',resultado)\n"
      ],
      "metadata": {
        "id": "5ItOxv7JUXZZ"
      },
      "execution_count": null,
      "outputs": []
    },
    {
      "cell_type": "code",
      "source": [
        "  print(campo_percorrido)"
      ],
      "metadata": {
        "id": "uxhRbrbFVmFb"
      },
      "execution_count": null,
      "outputs": []
    },
    {
      "cell_type": "markdown",
      "source": [],
      "metadata": {
        "id": "y5AeHKz6UXAu"
      }
    }
  ],
  "metadata": {
    "colab": {
      "provenance": []
    },
    "kernelspec": {
      "display_name": "Python 3",
      "name": "python3"
    },
    "language_info": {
      "name": "python"
    }
  },
  "nbformat": 4,
  "nbformat_minor": 0
}
