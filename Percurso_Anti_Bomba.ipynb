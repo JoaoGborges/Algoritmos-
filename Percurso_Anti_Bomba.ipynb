import random

campo_minado = [
 ['O', 'O', 'X', 'O','X'],
 ['X', 'O', 'O', 'O','X'],
 ['O', 'O', 'X', 'O','X'],
 ['O', 'X', 'O', 'O','O']
]

campo_percorrido = [
    ['','','','',''],
    ['','','','',''],
    ['','','','',''],
    ['','','','',''],
]

while True:
  posicao_linha = random.randint(1,len(campo_minado))
  posicao_coluna = random.randint(1,len(campo_minado[0]))

  if campo_percorrido[posicao_linha-1][posicao_coluna-1]==False:
    # inventa nova posição para evitar a bomba
    print('QUASE!!')
    posicao_linha = random.randint(1,len(campo_minado))
    posicao_coluna = random.randint(1,len(campo_minado[0]))
  else:
    resultado = (campo_minado[posicao_linha-1][posicao_coluna-1]=='O')
    campo_percorrido[posicao_linha-1][posicao_coluna-1] = resultado

  print(f'linha: {posicao_linha} \
        coluna {posicao_coluna} \
        Bolinha?',resultado)
